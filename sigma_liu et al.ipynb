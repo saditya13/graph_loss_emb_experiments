{
  "cells": [
    {
      "cell_type": "markdown",
      "metadata": {
        "id": "gD-tAl7jlxKV"
      },
      "source": [
        "# Liu et al optimal sigma"
      ]
    },
    {
      "cell_type": "code",
      "execution_count": null,
      "metadata": {},
      "outputs": [],
      "source": [
        "import torch\n",
        "\n",
        "def sigma_selection_torch(X, y, method='w1'):\n",
        "    \n",
        "    assert method in ['w1', 'w2'], \"method must be 'w1' or 'w2'\"\n",
        "\n",
        "    X = X.float()\n",
        "    y = y.long()\n",
        "    device = X.device\n",
        "\n",
        "    # Z-score normalization\n",
        "    X = (X - X.mean(dim=0)) / (X.std(dim=0) + 1e-8)\n",
        "\n",
        "    classes = torch.unique(y)\n",
        "    n_class = len(classes)\n",
        "    n_samples = X.shape[0]\n",
        "\n",
        "    # Get class sizes (as torch.Tensor for differentiability)\n",
        "    class_sizes = torch.stack([(y == c).sum() for c in classes]).float()\n",
        "\n",
        "    W_sum = torch.tensor(0.0, device=device)\n",
        "    B_sum = torch.tensor(0.0, device=device)\n",
        "\n",
        "    for i in range(n_class):\n",
        "        for j in range(i, n_class):\n",
        "            idx_i = (y == classes[i])\n",
        "            idx_j = (y == classes[j])\n",
        "            Xi = X[idx_i]\n",
        "            Xj = X[idx_j]\n",
        "            dist_sum = euclidean_matrix_sum(Xi, Xj)  # returns differentiable tensor\n",
        "            if i == j:\n",
        "                W_sum = W_sum + dist_sum\n",
        "            else:\n",
        "                B_sum = B_sum + dist_sum\n",
        "\n",
        "    nW = (class_sizes ** 2).sum()\n",
        "    nB = (n_samples ** 2 - nW) / 2\n",
        "    W_bar = W_sum / nW\n",
        "    B_bar = B_sum / nB\n",
        "\n",
        "    if (W_bar >= B_bar).item():\n",
        "        raise ValueError(\"W_bar >= B_bar! The method is not applicable!\")\n",
        "\n",
        "    log_ratio = torch.log(B_bar / W_bar)\n",
        "    if method == 'w1':\n",
        "        opt_sigma = torch.sqrt((B_bar - W_bar) / (2 * log_ratio))\n",
        "    else:\n",
        "        opt_sigma = torch.sqrt((B_bar - W_bar) / (4 * log_ratio))\n",
        "\n",
        "    return opt_sigma, B_bar, W_bar\n",
        "\n",
        "\n",
        "def euclidean_matrix_sum(X, Y, block_size=1000):\n",
        "\n",
        "    device = X.device\n",
        "    n1, n2 = X.size(0), Y.size(0)\n",
        "    mSum = torch.tensor(0.0, device=device)\n",
        "\n",
        "    for i in range(0, n1, block_size):\n",
        "        i_end = min(i + block_size, n1)\n",
        "        Xi = X[i:i_end]\n",
        "        for j in range(0, n2, block_size):\n",
        "            j_end = min(j + block_size, n2)\n",
        "            Yj = Y[j:j_end]\n",
        "            dist_sq = torch.cdist(Xi, Yj, p=2) ** 2\n",
        "            mSum = mSum + dist_sq.sum()\n",
        "\n",
        "    return mSum\n"
      ]
    },
    {
      "cell_type": "code",
      "execution_count": 2,
      "metadata": {
        "colab": {
          "base_uri": "https://localhost:8080/"
        },
        "id": "ZB_n3WKJdp4O",
        "outputId": "ef752d34-5d0a-41cc-da68-c11a1f53fc83"
      },
      "outputs": [
        {
          "name": "stdout",
          "output_type": "stream",
          "text": [
            "Optimal σ: 1.6456\n"
          ]
        }
      ],
      "source": [
        "# X: torch.tensor (N, D)\n",
        "# y: torch.tensor (N,)\n",
        "from sklearn.datasets import make_moons, load_wine, load_iris\n",
        "from sklearn.datasets import make_classification\n",
        "from sklearn.model_selection import train_test_split\n",
        "import numpy as np\n",
        "# X, y = make_moons(n_samples=385, noise=0.1, random_state=0, shuffle=False)\n",
        "# X, y = make_classification(n_samples=500, n_classes=3, weights=[0.7, 0.2, 0.1], n_informative=5, n_features=10, random_state=42)\n",
        "X,y = load_iris(return_X_y=True)\n",
        "# Convert properly to torch tensors\n",
        "X_tensor = torch.from_numpy(X).float()\n",
        "y_tensor = torch.from_numpy(y).long()\n",
        "# print(X_tensor.shape, y_tensor.shape, np.unique(y_tensor).shape[0])\n",
        "\n",
        "opt_sigma,B_bar, W_bar = sigma_selection_torch(X_tensor, y_tensor, method='w1')\n",
        "print(f\"Optimal σ: {opt_sigma:.4f}\")"
      ]
    },
    {
      "cell_type": "markdown",
      "metadata": {
        "id": "l-2N0DjPlFKt"
      },
      "source": [
        "# class weighted sigma\n"
      ]
    },
    {
      "cell_type": "code",
      "execution_count": 18,
      "metadata": {},
      "outputs": [],
      "source": [
        "import numpy as np\n",
        "import torch\n",
        "from sklearn.datasets import make_classification, load_iris\n",
        "from sklearn.metrics import f1_score\n",
        "from sklearn.model_selection import train_test_split\n",
        "import matplotlib.pyplot as plt\n",
        "\n",
        "device = torch.device(\"cuda\" if torch.cuda.is_available() else \"cpu\")"
      ]
    },
    {
      "cell_type": "code",
      "execution_count": 19,
      "metadata": {},
      "outputs": [],
      "source": [
        "# ---------- Label Propagation ----------\n",
        "def label_propagation(X, labeled_indices, labels_partial, sigma):\n",
        "    N = X.shape[0]\n",
        "    k = int(labels_partial.max().item()) + 1\n",
        "\n",
        "    all_labels = torch.full((N,), -1, dtype=torch.long)\n",
        "    for i, idx in enumerate(labeled_indices):\n",
        "        all_labels[idx] = labels_partial[i]\n",
        "\n",
        "    unlabeled_indices = [i for i in range(N) if i not in labeled_indices]\n",
        "\n",
        "    dist_matrix = torch.cdist(X, X, p=2)\n",
        "    W = torch.exp(-dist_matrix ** 2 / (2 * sigma ** 2))\n",
        "\n",
        "    W_UL = W[unlabeled_indices][:, labeled_indices]\n",
        "    W_UU = W[unlabeled_indices][:, unlabeled_indices]\n",
        "\n",
        "    YL = torch.zeros((len(labeled_indices), k), dtype=torch.float)\n",
        "    for i, idx in enumerate(labeled_indices):\n",
        "        YL[i, all_labels[idx]] = 1\n",
        "\n",
        "    I = torch.eye(W_UU.shape[0])\n",
        "    YU = torch.linalg.solve(I - W_UU, W_UL @ YL)\n",
        "    YU = YU / (YU.sum(dim=1, keepdim=True) + 1e-8)\n",
        "    return YU.argmax(dim=1)\n",
        "\n"
      ]
    },
    {
      "cell_type": "code",
      "execution_count": 20,
      "metadata": {},
      "outputs": [],
      "source": [
        "# ---------- Sigma Estimators ----------\n",
        "def median_sigma(X):\n",
        "    dists = torch.cdist(X, X, p=2)\n",
        "    median_val = torch.median(dists[dists > 0])\n",
        "    return median_val.item()\n",
        "\n",
        "def sqrt_median_div_3_sigma(X):\n",
        "    dists = torch.cdist(X, X, p=2)\n",
        "    median_sq = torch.median(dists[dists > 0] ** 2)\n",
        "    return torch.sqrt(median_sq / 3).item()\n",
        "\n",
        "def sigma_selection_class_weighted(X, y, use_weights=True):\n",
        "    classes = torch.unique(y)\n",
        "    W_sum, B_sum = 0.0, 0.0\n",
        "    W_weight, B_weight = 0.0, 0.0\n",
        "\n",
        "    for i in range(len(classes)):\n",
        "        for j in range(i, len(classes)):\n",
        "            idx_i = (y == classes[i])\n",
        "            idx_j = (y == classes[j])\n",
        "            Xi, Xj = X[idx_i], X[idx_j]\n",
        "\n",
        "            if Xi.shape[0] == 0 or Xj.shape[0] == 0:\n",
        "                continue\n",
        "\n",
        "            dist_sum = (torch.cdist(Xi, Xj, p=2) ** 2).sum().item()\n",
        "\n",
        "            if i == j:\n",
        "                w = 1.0 / (Xi.shape[0] ** 2) if use_weights else 1.0\n",
        "                W_sum += w * dist_sum\n",
        "                W_weight += 1\n",
        "            else:\n",
        "                w = 1.0 / (Xi.shape[0] * Xj.shape[0]) if use_weights else 1.0\n",
        "                B_sum += w * dist_sum\n",
        "                B_weight += 1\n",
        "\n",
        "    W_bar = W_sum / W_weight\n",
        "    B_bar = B_sum / B_weight\n",
        "\n",
        "    if W_bar >= B_bar:\n",
        "        raise ValueError(\"W̄ ≥ B̄ — Liu's method not applicable.\")\n",
        "\n",
        "    W_bar_t = torch.tensor(W_bar)\n",
        "    B_bar_t = torch.tensor(B_bar)\n",
        "    sigma = torch.sqrt((B_bar_t - W_bar_t) / (2 * torch.log(B_bar_t / W_bar_t)))\n",
        "    return sigma.item()"
      ]
    },
    {
      "cell_type": "code",
      "execution_count": 42,
      "metadata": {
        "colab": {
          "base_uri": "https://localhost:8080/",
          "height": 558
        },
        "id": "1KUcFYthm2i7",
        "outputId": "7ce9292c-ecd6-479d-bc22-ed4e77e920c3"
      },
      "outputs": [
        {
          "name": "stdout",
          "output_type": "stream",
          "text": [
            "median                 σ = 9.5739 → Macro-F1 = 0.3518\n",
            "sqrt(median/3)         σ = 5.5275 → Macro-F1 = 0.2726\n",
            "liu                    σ = 3.1616 → Macro-F1 = 0.3100\n",
            "class_weighted_liu     σ = 7.2717 → Macro-F1 = 0.1545\n"
          ]
        },
        {
          "data": {
            "image/png": "[encoded data removed]",
            "text/plain": [
              "<Figure size 640x480 with 1 Axes>"
            ]
          },
          "metadata": {},
          "output_type": "display_data"
        }
      ],
      "source": [
        "# ---------- Main Evaluation ----------\n",
        "def run_sigma_eval():\n",
        "    # Create imbalanced dataset\n",
        "    X_np, y_np = make_classification(n_samples=400, n_features=10, n_classes=3,\n",
        "                                     n_informative=8,weights=[0.7, 0.1, 0.2],\n",
        "                                     random_state=0)\n",
        "    # X_np,y_np = load_iris(return_X_y=True)\n",
        "    X = torch.tensor(X_np, dtype=torch.float32).to(device)\n",
        "    y = torch.tensor(y_np, dtype=torch.long).to(device)\n",
        "\n",
        "    # Semi-supervised split\n",
        "    idx = np.arange(len(X))\n",
        "    idx_train, idx_test, y_train, y_test = train_test_split(\n",
        "        idx, y_np, stratify=y_np, test_size=0.3, random_state=42)\n",
        "    idx_train = torch.tensor(idx_train)\n",
        "    y_train_torch = torch.tensor(y_train)\n",
        "\n",
        "    results = {}\n",
        "\n",
        "    sigma_methods = {\n",
        "        \"median\": median_sigma,\n",
        "        \"sqrt(median/3)\": sqrt_median_div_3_sigma,\n",
        "        \"liu\": lambda X: sigma_selection_torch(X, y, method='w1'),\n",
        "        \"class_weighted_liu\": lambda X: sigma_selection_class_weighted(X, y)\n",
        "    }\n",
        "\n",
        "    for name, sigma_fn in sigma_methods.items():\n",
        "        try:\n",
        "            sigma = sigma_fn(X)\n",
        "            preds = label_propagation(X, idx_train.tolist(), y_train_torch, sigma)\n",
        "            macro_f1 = f1_score(y_test, preds.cpu().numpy(), average=\"macro\")\n",
        "            results[name] = (sigma, macro_f1)\n",
        "            print(f\"{name:22s} σ = {sigma:.4f} → Macro-F1 = {macro_f1:.4f}\")\n",
        "        except Exception as e:\n",
        "            print(f\"{name:22s} failed: {e}\")\n",
        "            results[name] = (None, 0)\n",
        "\n",
        "    # Plot\n",
        "    plt.bar(results.keys(), [v[1] for v in results.values()])\n",
        "    plt.ylabel(\"Macro-F1 Score\")\n",
        "    plt.title(\"Evaluation of Different Sigma Estimators\")\n",
        "    plt.xticks(rotation=15)\n",
        "    plt.grid(True, axis='y')\n",
        "    plt.show()\n",
        "\n",
        "    return X,y,idx_train, idx_test, y_train, y_test\n",
        "\n",
        "    \n",
        "\n",
        "# Run evaluation\n",
        "X,y,idx_train, idx_test, y_train, y_test = run_sigma_eval()"
      ]
    },
    {
      "cell_type": "markdown",
      "metadata": {},
      "source": [
        "# optimal sigma "
      ]
    },
    {
      "cell_type": "code",
      "execution_count": 31,
      "metadata": {},
      "outputs": [],
      "source": [
        "def compute_sigma(X):\n",
        "    N = X.shape[0]\n",
        "    sq_dists = []\n",
        "    for i in range(N):\n",
        "        for j in range(i+1, N):\n",
        "            sq_dists.append(np.sum((X[i] - X[j])**2))\n",
        "    med_sq = np.median(sq_dists)\n",
        "    sigma = np.sqrt(med_sq / 3)\n",
        "    print(\"computed sigma\",sigma)\n",
        "    return sigma"
      ]
    },
    {
      "cell_type": "code",
      "execution_count": 43,
      "metadata": {},
      "outputs": [
        {
          "name": "stdout",
          "output_type": "stream",
          "text": [
            "computed sigma 5.528649\n",
            "For simga value: 2.764324426651001\n",
            "Accuracy: 0.4583333333333333\n",
            "F1 Score: 0.338983732177627\n",
            "For simga value: 3.3171893119812013\n",
            "Accuracy: 0.5083333333333333\n",
            "F1 Score: 0.4246918118765777\n",
            "For simga value: 3.870054197311401\n",
            "Accuracy: 0.45\n",
            "F1 Score: 0.24495259341885112\n",
            "For simga value: 4.422919082641601\n",
            "Accuracy: 0.6166666666666667\n",
            "F1 Score: 0.3432918043902026\n",
            "For simga value: 4.975783967971802\n",
            "Accuracy: 0.5583333333333333\n",
            "F1 Score: 0.3401915113871636\n",
            "For simga value: 5.528648853302002\n",
            "Accuracy: 0.6916666666666667\n",
            "F1 Score: 0.27257799671592775\n",
            "For simga value: 6.081513738632203\n",
            "Accuracy: 0.2833333333333333\n",
            "F1 Score: 0.19122273769530207\n",
            "For simga value: 6.6343786239624025\n",
            "Accuracy: 0.5916666666666667\n",
            "F1 Score: 0.2833478639930253\n",
            "For simga value: 7.187243509292602\n",
            "Accuracy: 0.25833333333333336\n",
            "F1 Score: 0.22450142450142452\n",
            "For simga value: 7.740108394622802\n",
            "Accuracy: 0.175\n",
            "F1 Score: 0.17156252593145796\n",
            "For simga value: 8.292973279953003\n",
            "Accuracy: 0.4583333333333333\n",
            "F1 Score: 0.34314381845023517\n",
            "For simga value: 8.845838165283203\n",
            "Accuracy: 0.6666666666666666\n",
            "F1 Score: 0.35065323973480417\n",
            "For simga value: 9.398703050613403\n",
            "Accuracy: 0.5333333333333333\n",
            "F1 Score: 0.34961229246943537\n",
            "For simga value: 9.951567935943604\n",
            "Accuracy: 0.6333333333333333\n",
            "F1 Score: 0.2799006908462867\n",
            "For simga value: 10.504432821273804\n",
            "Accuracy: 0.4666666666666667\n",
            "F1 Score: 0.33132244099986036\n",
            "For simga value: 11.057297706604004\n",
            "Accuracy: 0.475\n",
            "F1 Score: 0.3355699855699856\n"
          ]
        }
      ],
      "source": [
        "import numpy as np\n",
        "import matplotlib.pyplot as plt\n",
        "from sklearn.datasets import make_moons\n",
        "from scipy.spatial.distance import pdist, squareform\n",
        "from matplotlib.colors import ListedColormap\n",
        "from sklearn.metrics import f1_score\n",
        "\n",
        "def plot_multiple_sigmas(X_np, labeled_indices, labels_partial,y_moons_unlabeled, base_sigma,\n",
        "                         low_factor=0.85, high_factor=1.25, step_factor=0.05):\n",
        "\n",
        "    factors = np.arange(low_factor, high_factor + step_factor, step_factor)\n",
        "    factors = [round(f, 2) for f in factors]\n",
        "    sigmas = [f * base_sigma for f in factors]\n",
        "\n",
        "    # Calculate grid dimensions for subplots\n",
        "    n_sigmas = len(sigmas)\n",
        "    n_cols = 4\n",
        "    n_rows = (n_sigmas + n_cols - 1) // n_cols\n",
        "\n",
        "    # plt.figure(figsize=(5 * n_cols, 4 * n_rows))\n",
        "    # plt.suptitle(f\"Label Propagation Results with Varying σ (Base σ={base_sigma:.4f})\", fontsize=16)\n",
        "\n",
        "    for i, sigma_val in enumerate(sigmas):\n",
        "        # Run label propagation with current sigma        \n",
        "        print(f\"For simga value: {sigma_val}\")\n",
        "        pred1 = label_propagation(torch.from_numpy(X_np).float(), labeled_indices, labels_partial,sigma=sigma_val)\n",
        "        print(\"Accuracy:\",np.mean(y_moons_unlabeled == pred1.cpu().numpy()))\n",
        "        print(\"F1 Score:\",f1_score(y_moons_unlabeled, pred1.cpu().numpy(), average='macro'))\n",
        "\n",
        "\n",
        "# --- Compute Base Sigma ---\n",
        "base_sigma = compute_sigma(X.cpu().numpy())\n",
        "\n",
        "# --- Plot Results for Multiple Sigmas ---\n",
        "plot_multiple_sigmas(X.cpu().numpy(),\n",
        "    idx_train.tolist(),\n",
        "    y_train, y_test,\n",
        "    base_sigma,\n",
        "    low_factor=0.5,\n",
        "    high_factor=2.0,\n",
        "    step_factor=0.1\n",
        ")"
      ]
    },
    {
      "cell_type": "code",
      "execution_count": null,
      "metadata": {
        "id": "o2EuXbPClKqk"
      },
      "outputs": [],
      "source": [
        "import torch\n",
        "\n",
        "def euclidean_matrix_sum(X, Y, block_size=1000):\n",
        "    \"\"\"Compute sum of squared pairwise Euclidean distances between X and Y.\"\"\"\n",
        "    mSum = 0\n",
        "    nX, nY = X.shape[0], Y.shape[0]\n",
        "    for i in range(0, nX, block_size):\n",
        "        Xi = X[i:i+block_size]\n",
        "        for j in range(0, nY, block_size):\n",
        "            Yj = Y[j:j+block_size]\n",
        "            dist = torch.cdist(Xi, Yj, p=2) ** 2\n",
        "            mSum += dist.sum().item()\n",
        "    return mSum\n",
        "\n",
        "def sigma_selection_class_weighted(X, y, method='w1'):\n",
        "    \"\"\"\n",
        "    Computes optimal sigma using Liu's method with class size weighting.\n",
        "    X: (N, d) tensor\n",
        "    y: (N,) tensor of class labels\n",
        "    \"\"\"\n",
        "    X = X.float()\n",
        "    y = y.long()\n",
        "    classes = torch.unique(y)\n",
        "    n_class = len(classes)\n",
        "    n_samples = X.shape[0]\n",
        "\n",
        "    W_sum = 0.0\n",
        "    B_sum = 0.0\n",
        "    W_weight = 0.0\n",
        "    B_weight = 0.0\n",
        "\n",
        "    for i in range(n_class):\n",
        "        for j in range(i, n_class):\n",
        "            idx_i = (y == classes[i])\n",
        "            idx_j = (y == classes[j])\n",
        "            Xi = X[idx_i]\n",
        "            Xj = X[idx_j]\n",
        "\n",
        "            if Xi.shape[0] == 0 or Xj.shape[0] == 0:\n",
        "                continue\n",
        "\n",
        "            dist_sum = euclidean_matrix_sum(Xi, Xj)\n",
        "\n",
        "            if i == j:\n",
        "                w = 1.0 / (Xi.shape[0] ** 2)\n",
        "                W_sum += w * dist_sum\n",
        "                W_weight += 1\n",
        "            else:\n",
        "                w = 1.0 / (Xi.shape[0] * Xj.shape[0])\n",
        "                B_sum += w * dist_sum\n",
        "                B_weight += 1\n",
        "\n",
        "    if W_weight == 0 or B_weight == 0:\n",
        "        raise ValueError(\"Insufficient class diversity for sigma estimation.\")\n",
        "\n",
        "    W_bar = W_sum / W_weight\n",
        "    B_bar = B_sum / B_weight\n",
        "\n",
        "    if W_bar >= B_bar:\n",
        "        raise ValueError(\"W_bar >= B_bar; Liu method not applicable.\")\n",
        "\n",
        "    B_bar_t = torch.tensor(B_bar)\n",
        "    W_bar_t = torch.tensor(W_bar)\n",
        "    # Liu's sigma formulas\n",
        "    if method == 'w1':\n",
        "        sigma = torch.sqrt((B_bar_t - W_bar_t) / (2 * torch.log(B_bar_t / W_bar_t)))\n",
        "    elif method == 'w2':\n",
        "        sigma = torch.sqrt((B_bar_t - W_bar_t) / (4 * torch.log(B_bar_t / W_bar_t)))\n",
        "    else:\n",
        "        raise ValueError(\"Method must be 'w1' or 'w2'\")\n",
        "\n",
        "    return sigma.item(), B_bar_t, W_bar_t\n"
      ]
    },
    {
      "cell_type": "code",
      "execution_count": null,
      "metadata": {
        "colab": {
          "base_uri": "https://localhost:8080/"
        },
        "id": "dCJ9RSQclEC9",
        "outputId": "94c77f1b-9bbe-45ae-bfea-bcc6afc4a139"
      },
      "outputs": [
        {
          "name": "stdout",
          "output_type": "stream",
          "text": [
            "Optimal σ: 4.6980, B̄: 48.1392, W̄: 40.3741\n"
          ]
        }
      ],
      "source": [
        "from sklearn.datasets import make_classification\n",
        "import matplotlib.pyplot as plt\n",
        "\n",
        "X_np, y_np = make_classification(n_samples=500, n_classes=3, weights=[0.7, 0.2, 0.1], n_informative=5, n_features=10, random_state=42)\n",
        "X = torch.from_numpy(X_np)\n",
        "y = torch.from_numpy(y_np)\n",
        "\n",
        "sigma, B_bar, W_bar = sigma_selection_class_weighted(X, y, method='w1')\n",
        "print(f\"Optimal σ: {sigma:.4f}, B̄: {B_bar:.4f}, W̄: {W_bar:.4f}\")\n"
      ]
    },
    {
      "cell_type": "markdown",
      "metadata": {
        "id": "z2eH_S44lMUI"
      },
      "source": [
        "# LPA"
      ]
    },
    {
      "cell_type": "code",
      "execution_count": null,
      "metadata": {
        "id": "QsQriFsGqPPh"
      },
      "outputs": [],
      "source": [
        "def compute_sigma(X):\n",
        "    N = X.shape[0]\n",
        "    sq_dists = []\n",
        "    for i in range(N):\n",
        "        for j in range(i+1, N):\n",
        "            sq_dists.append(np.sum((X[i] - X[j])**2))\n",
        "    med_sq = np.median(sq_dists)\n",
        "    sigma = np.sqrt(med_sq / 3)\n",
        "    return sigma"
      ]
    },
    {
      "cell_type": "code",
      "execution_count": null,
      "metadata": {
        "colab": {
          "base_uri": "https://localhost:8080/"
        },
        "id": "dlmdL7xNq2_7",
        "outputId": "1a1242b2-eb4d-4274-e4d5-43137b6c24bc"
      },
      "outputs": [
        {
          "name": "stdout",
          "output_type": "stream",
          "text": [
            "1.3625955623979797\n"
          ]
        }
      ],
      "source": [
        "sigma = compute_sigma(X)\n",
        "print(sigma)"
      ]
    },
    {
      "cell_type": "code",
      "execution_count": null,
      "metadata": {
        "id": "aym1ZbFmmk5a"
      },
      "outputs": [],
      "source": [
        "def label_propagation(X, labeled_indices, labels_partial, sigma=None):\n",
        "    N = X.shape[0]\n",
        "    all_labels = np.full(N, -1)\n",
        "    for i, idx in enumerate(labeled_indices):\n",
        "        all_labels[idx] = labels_partial[i]\n",
        "\n",
        "    unlabeled_indices = [i for i in range(N) if i not in labeled_indices]\n",
        "\n",
        "    dist_matrix = np.linalg.norm(X[:, None, :] - X[None, :, :], axis=2)\n",
        "    # print(sigma)\n",
        "    W = np.exp(-dist_matrix ** 2 / (2 * sigma ** 2))\n",
        "    D = np.diag(W.sum(axis=1))\n",
        "\n",
        "    W_UL = W[np.ix_(unlabeled_indices, labeled_indices)]\n",
        "    W_UU = W[np.ix_(unlabeled_indices, unlabeled_indices)]\n",
        "\n",
        "    # print(D_LL)\n",
        "    k = len(np.unique(labels_partial))\n",
        "    YL = np.zeros((len(labeled_indices), k))\n",
        "    for i, idx in enumerate(labeled_indices):\n",
        "        YL[i, all_labels[idx]] = 1\n",
        "\n",
        "    I = np.identity(W_UU.shape[0])\n",
        "    YU = np.linalg.pinv(I - W_UU).dot(W_UL).dot(YL)\n",
        "    y_pred = np.argmax(YU, axis = 1)\n",
        "    return y_pred"
      ]
    },
    {
      "cell_type": "code",
      "execution_count": null,
      "metadata": {
        "id": "gBMLP2HtqJDs"
      },
      "outputs": [],
      "source": [
        "all_indices = np.arange(len(X))\n",
        "XL,XU, YL,YU, idx_L, idx_U = train_test_split(X, y,all_indices, test_size=0.3, random_state=42)\n"
      ]
    },
    {
      "cell_type": "code",
      "execution_count": null,
      "metadata": {
        "colab": {
          "base_uri": "https://localhost:8080/"
        },
        "id": "qpMAI__dm1iq",
        "outputId": "7bc9aa82-a3ec-47a4-f068-6dfa9d7e603e"
      },
      "outputs": [
        {
          "name": "stdout",
          "output_type": "stream",
          "text": [
            "F1 Score is: 0.3625420292086959\n"
          ]
        }
      ],
      "source": [
        "from sklearn.metrics import f1_score\n",
        "YU_pred = label_propagation(X, idx_L, YL,sigma)\n",
        "print(\"F1 Score is:\",f1_score(YU, YU_pred, average='macro'))"
      ]
    },
    {
      "cell_type": "code",
      "execution_count": null,
      "metadata": {
        "id": "MUsb9gjaoqBb"
      },
      "outputs": [],
      "source": []
    }
  ],
  "metadata": {
    "colab": {
      "collapsed_sections": [
        "z2eH_S44lMUI"
      ],
      "provenance": []
    },
    "kernelspec": {
      "display_name": "Python 3",
      "name": "python3"
    },
    "language_info": {
      "codemirror_mode": {
        "name": "ipython",
        "version": 3
      },
      "file_extension": ".py",
      "mimetype": "text/x-python",
      "name": "python",
      "nbconvert_exporter": "python",
      "pygments_lexer": "ipython3",
      "version": "3.13.5"
    }
  },
  "nbformat": 4,
  "nbformat_minor": 0
}
