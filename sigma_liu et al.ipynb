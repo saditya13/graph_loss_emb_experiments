{
  "cells": [
    {
      "cell_type": "markdown",
      "metadata": {
        "id": "gD-tAl7jlxKV"
      },
      "source": [
        "# Liu et al optimal sigma"
      ]
    },
    {
      "cell_type": "code",
      "execution_count": 3,
      "metadata": {
        "id": "TNdbsfYBltZS"
      },
      "outputs": [],
      "source": [
        "import torch\n",
        "\n",
        "def sigma_selection_torch(X, y, method='w1'):\n",
        "    \"\"\"\n",
        "    PyTorch version of sigmaSelection.m by Zhiliang Liu (2013).\n",
        "\n",
        "    Args:\n",
        "        X (Tensor): (N, D) feature matrix\n",
        "        y (Tensor): (N,) integer class labels\n",
        "        method (str): either 'w1' or 'w2'\n",
        "\n",
        "    Returns:\n",
        "        opt_sigma (float): optimal sigma\n",
        "        B_bar (float)\n",
        "        W_bar (float)\n",
        "    \"\"\"\n",
        "    assert method in ['w1', 'w2'], \"method must be 'w1' or 'w2'\"\n",
        "\n",
        "    X = X.float()\n",
        "    y = y.long()\n",
        "    X = (X - X.mean(dim=0)) / (X.std(dim=0) + 1e-8)  # Z-score normalization\n",
        "\n",
        "    classes = torch.unique(y)\n",
        "    n_class = len(classes)\n",
        "    n_samples = X.shape[0]\n",
        "    class_sizes = torch.tensor([(y == c).sum() for c in classes], dtype=torch.float32)\n",
        "    W_sum, B_sum = 0.0, 0.0\n",
        "\n",
        "    for i in range(n_class):\n",
        "        for j in range(i, n_class):\n",
        "            idx_i = (y == classes[i])\n",
        "            idx_j = (y == classes[j])\n",
        "            Xi = X[idx_i]\n",
        "            Xj = X[idx_j]\n",
        "            dist_sum = euclidean_matrix_sum(Xi, Xj)\n",
        "            if i == j:\n",
        "                W_sum += dist_sum\n",
        "            else:\n",
        "                B_sum += dist_sum\n",
        "\n",
        "    nW = (class_sizes**2).sum().item()\n",
        "    nB = (n_samples**2 - nW) / 2\n",
        "    W_bar = W_sum / nW\n",
        "    B_bar = B_sum / nB\n",
        "\n",
        "    if W_bar >= B_bar:\n",
        "        raise ValueError(\"W_bar >= B_bar! The method is not applicable!\")\n",
        "\n",
        "    log_ratio = torch.log(torch.tensor(B_bar / W_bar))\n",
        "    if method == 'w1':\n",
        "        opt_sigma = torch.sqrt((B_bar - W_bar) / (2 * log_ratio))\n",
        "    else:  # method == 'w2'\n",
        "        opt_sigma = torch.sqrt((B_bar - W_bar) / (4 * log_ratio))\n",
        "\n",
        "    return opt_sigma.item()\n",
        "\n",
        "def euclidean_matrix_sum(X, Y, block_size=1000):\n",
        "    \"\"\"\n",
        "    Computes the sum of squared pairwise Euclidean distances between two matrices.\n",
        "    \"\"\"\n",
        "    X = X.float()\n",
        "    Y = Y.float()\n",
        "    mSum = 0.0\n",
        "    n1, n2 = X.shape[0], Y.shape[0]\n",
        "\n",
        "    for i in range(0, n1, block_size):\n",
        "        i_end = min(i + block_size, n1)\n",
        "        Xi = X[i:i_end]\n",
        "        for j in range(0, n2, block_size):\n",
        "            j_end = min(j + block_size, n2)\n",
        "            Yj = Y[j:j_end]\n",
        "            dist = torch.cdist(Xi, Yj, p=2) ** 2\n",
        "            mSum += dist.sum().item()\n",
        "    return mSum\n"
      ]
    },
    {
      "cell_type": "code",
      "execution_count": null,
      "metadata": {
        "colab": {
          "base_uri": "https://localhost:8080/"
        },
        "id": "ZB_n3WKJdp4O",
        "outputId": "ef752d34-5d0a-41cc-da68-c11a1f53fc83"
      },
      "outputs": [
        {
          "name": "stdout",
          "output_type": "stream",
          "text": [
            "Optimal σ: 1.6456\n"
          ]
        }
      ],
      "source": [
        "# X: torch.tensor (N, D)\n",
        "# y: torch.tensor (N,)\n",
        "from sklearn.datasets import make_moons, load_wine, load_iris\n",
        "from sklearn.datasets import make_classification\n",
        "from sklearn.model_selection import train_test_split\n",
        "import numpy as np\n",
        "# X, y = make_moons(n_samples=385, noise=0.1, random_state=0, shuffle=False)\n",
        "# X, y = make_classification(n_samples=500, n_classes=3, weights=[0.7, 0.2, 0.1], n_informative=5, n_features=10, random_state=42)\n",
        "X,y = load_iris(return_X_y=True)\n",
        "# Convert properly to torch tensors\n",
        "X_tensor = torch.from_numpy(X).float()\n",
        "y_tensor = torch.from_numpy(y).long()\n",
        "# print(X_tensor.shape, y_tensor.shape, np.unique(y_tensor).shape[0])\n",
        "\n",
        "opt_sigma = sigma_selection_torch(X_tensor, y_tensor, method='w1')\n",
        "print(f\"Optimal σ: {opt_sigma:.4f}\")"
      ]
    },
    {
      "cell_type": "markdown",
      "metadata": {
        "id": "l-2N0DjPlFKt"
      },
      "source": [
        "# class weighted sigma\n"
      ]
    },
    {
      "cell_type": "code",
      "execution_count": 18,
      "metadata": {},
      "outputs": [],
      "source": [
        "import numpy as np\n",
        "import torch\n",
        "from sklearn.datasets import make_classification, load_iris\n",
        "from sklearn.metrics import f1_score\n",
        "from sklearn.model_selection import train_test_split\n",
        "import matplotlib.pyplot as plt\n",
        "\n",
        "device = torch.device(\"cuda\" if torch.cuda.is_available() else \"cpu\")"
      ]
    },
    {
      "cell_type": "code",
      "execution_count": 19,
      "metadata": {},
      "outputs": [],
      "source": [
        "# ---------- Label Propagation ----------\n",
        "def label_propagation(X, labeled_indices, labels_partial, sigma):\n",
        "    N = X.shape[0]\n",
        "    k = int(labels_partial.max().item()) + 1\n",
        "\n",
        "    all_labels = torch.full((N,), -1, dtype=torch.long)\n",
        "    for i, idx in enumerate(labeled_indices):\n",
        "        all_labels[idx] = labels_partial[i]\n",
        "\n",
        "    unlabeled_indices = [i for i in range(N) if i not in labeled_indices]\n",
        "\n",
        "    dist_matrix = torch.cdist(X, X, p=2)\n",
        "    W = torch.exp(-dist_matrix ** 2 / (2 * sigma ** 2))\n",
        "\n",
        "    W_UL = W[unlabeled_indices][:, labeled_indices]\n",
        "    W_UU = W[unlabeled_indices][:, unlabeled_indices]\n",
        "\n",
        "    YL = torch.zeros((len(labeled_indices), k), dtype=torch.float)\n",
        "    for i, idx in enumerate(labeled_indices):\n",
        "        YL[i, all_labels[idx]] = 1\n",
        "\n",
        "    I = torch.eye(W_UU.shape[0])\n",
        "    YU = torch.linalg.solve(I - W_UU, W_UL @ YL)\n",
        "    YU = YU / (YU.sum(dim=1, keepdim=True) + 1e-8)\n",
        "    return YU.argmax(dim=1)\n",
        "\n"
      ]
    },
    {
      "cell_type": "code",
      "execution_count": 20,
      "metadata": {},
      "outputs": [],
      "source": [
        "# ---------- Sigma Estimators ----------\n",
        "def median_sigma(X):\n",
        "    dists = torch.cdist(X, X, p=2)\n",
        "    median_val = torch.median(dists[dists > 0])\n",
        "    return median_val.item()\n",
        "\n",
        "def sqrt_median_div_3_sigma(X):\n",
        "    dists = torch.cdist(X, X, p=2)\n",
        "    median_sq = torch.median(dists[dists > 0] ** 2)\n",
        "    return torch.sqrt(median_sq / 3).item()\n",
        "\n",
        "def sigma_selection_class_weighted(X, y, use_weights=True):\n",
        "    classes = torch.unique(y)\n",
        "    W_sum, B_sum = 0.0, 0.0\n",
        "    W_weight, B_weight = 0.0, 0.0\n",
        "\n",
        "    for i in range(len(classes)):\n",
        "        for j in range(i, len(classes)):\n",
        "            idx_i = (y == classes[i])\n",
        "            idx_j = (y == classes[j])\n",
        "            Xi, Xj = X[idx_i], X[idx_j]\n",
        "\n",
        "            if Xi.shape[0] == 0 or Xj.shape[0] == 0:\n",
        "                continue\n",
        "\n",
        "            dist_sum = (torch.cdist(Xi, Xj, p=2) ** 2).sum().item()\n",
        "\n",
        "            if i == j:\n",
        "                w = 1.0 / (Xi.shape[0] ** 2) if use_weights else 1.0\n",
        "                W_sum += w * dist_sum\n",
        "                W_weight += 1\n",
        "            else:\n",
        "                w = 1.0 / (Xi.shape[0] * Xj.shape[0]) if use_weights else 1.0\n",
        "                B_sum += w * dist_sum\n",
        "                B_weight += 1\n",
        "\n",
        "    W_bar = W_sum / W_weight\n",
        "    B_bar = B_sum / B_weight\n",
        "\n",
        "    if W_bar >= B_bar:\n",
        "        raise ValueError(\"W̄ ≥ B̄ — Liu's method not applicable.\")\n",
        "\n",
        "    W_bar_t = torch.tensor(W_bar)\n",
        "    B_bar_t = torch.tensor(B_bar)\n",
        "    sigma = torch.sqrt((B_bar_t - W_bar_t) / (2 * torch.log(B_bar_t / W_bar_t)))\n",
        "    return sigma.item()"
      ]
    },
    {
      "cell_type": "code",
      "execution_count": 22,
      "metadata": {
        "colab": {
          "base_uri": "https://localhost:8080/",
          "height": 558
        },
        "id": "1KUcFYthm2i7",
        "outputId": "7ce9292c-ecd6-479d-bc22-ed4e77e920c3"
      },
      "outputs": [
        {
          "name": "stdout",
          "output_type": "stream",
          "text": [
            "median                 σ = 8.7375 → Macro-F1 = 0.1728\n",
            "sqrt(median/3)         σ = 5.0446 → Macro-F1 = 0.3195\n",
            "liu                    σ = 3.1631 → Macro-F1 = 0.3250\n",
            "class_weighted_liu     σ = 6.6499 → Macro-F1 = 0.3212\n"
          ]
        },
        {
          "data": {
            "image/png": "[encoded data removed]",
            "text/plain": [
              "<Figure size 640x480 with 1 Axes>"
            ]
          },
          "metadata": {},
          "output_type": "display_data"
        }
      ],
      "source": [
        "# ---------- Main Evaluation ----------\n",
        "def run_sigma_eval():\n",
        "    # Create imbalanced dataset\n",
        "    X_np, y_np = make_classification(n_samples=700, n_features=10, n_classes=3,\n",
        "                                     n_informative=8,weights=[0.7, 0.1, 0.2],\n",
        "                                     random_state=0)\n",
        "    # X_np,y_np = load_iris(return_X_y=True)\n",
        "    X = torch.tensor(X_np, dtype=torch.float32).to(device)\n",
        "    y = torch.tensor(y_np, dtype=torch.long).to(device)\n",
        "\n",
        "    # Semi-supervised split\n",
        "    idx = np.arange(len(X))\n",
        "    idx_train, idx_test, y_train, y_test = train_test_split(\n",
        "        idx, y_np, stratify=y_np, test_size=0.3, random_state=42)\n",
        "    idx_train = torch.tensor(idx_train)\n",
        "    y_train_torch = torch.tensor(y_train)\n",
        "\n",
        "    results = {}\n",
        "\n",
        "    sigma_methods = {\n",
        "        \"median\": median_sigma,\n",
        "        \"sqrt(median/3)\": sqrt_median_div_3_sigma,\n",
        "        \"liu\": lambda X: sigma_selection_torch(X, y, method='w1'),\n",
        "        \"class_weighted_liu\": lambda X: sigma_selection_class_weighted(X, y)\n",
        "    }\n",
        "\n",
        "    for name, sigma_fn in sigma_methods.items():\n",
        "        try:\n",
        "            sigma = sigma_fn(X)\n",
        "            preds = label_propagation(X, idx_train.tolist(), y_train_torch, sigma)\n",
        "            macro_f1 = f1_score(y_test, preds.cpu().numpy(), average=\"macro\")\n",
        "            results[name] = (sigma, macro_f1)\n",
        "            print(f\"{name:22s} σ = {sigma:.4f} → Macro-F1 = {macro_f1:.4f}\")\n",
        "        except Exception as e:\n",
        "            print(f\"{name:22s} failed: {e}\")\n",
        "            results[name] = (None, 0)\n",
        "\n",
        "    # Plot\n",
        "    plt.bar(results.keys(), [v[1] for v in results.values()])\n",
        "    plt.ylabel(\"Macro-F1 Score\")\n",
        "    plt.title(\"Evaluation of Different Sigma Estimators\")\n",
        "    plt.xticks(rotation=15)\n",
        "    plt.grid(True, axis='y')\n",
        "    plt.show()\n",
        "\n",
        "    return X,y,idx_train, idx_test, y_train, y_test\n",
        "\n",
        "    \n",
        "\n",
        "# Run evaluation\n",
        "X,y,idx_train, idx_test, y_train, y_test = run_sigma_eval()"
      ]
    },
    {
      "cell_type": "markdown",
      "metadata": {},
      "source": [
        "# optimal sigma "
      ]
    },
    {
      "cell_type": "code",
      "execution_count": 31,
      "metadata": {},
      "outputs": [],
      "source": [
        "def compute_sigma(X):\n",
        "    N = X.shape[0]\n",
        "    sq_dists = []\n",
        "    for i in range(N):\n",
        "        for j in range(i+1, N):\n",
        "            sq_dists.append(np.sum((X[i] - X[j])**2))\n",
        "    med_sq = np.median(sq_dists)\n",
        "    sigma = np.sqrt(med_sq / 3)\n",
        "    print(\"computed sigma\",sigma)\n",
        "    return sigma"
      ]
    },
    {
      "cell_type": "code",
      "execution_count": null,
      "metadata": {},
      "outputs": [
        {
          "name": "stdout",
          "output_type": "stream",
          "text": [
            "computed sigma 5.045245\n",
            "base sigma 5.045245\n",
            "For simga value: 4.288458395004272\n"
          ]
        },
        {
          "ename": "TypeError",
          "evalue": "cdist(): argument 'x1' (position 1) must be Tensor, not numpy.ndarray",
          "output_type": "error",
          "traceback": [
            "\u001b[31m---------------------------------------------------------------------------\u001b[39m",
            "\u001b[31mTypeError\u001b[39m                                 Traceback (most recent call last)",
            "\u001b[36mCell\u001b[39m\u001b[36m \u001b[39m\u001b[32mIn[32]\u001b[39m\u001b[32m, line 39\u001b[39m\n\u001b[32m     36\u001b[39m base_sigma = compute_sigma(X.cpu().numpy())\n\u001b[32m     38\u001b[39m \u001b[38;5;66;03m# --- Plot Results for Multiple Sigmas ---\u001b[39;00m\n\u001b[32m---> \u001b[39m\u001b[32m39\u001b[39m \u001b[43mplot_multiple_sigmas\u001b[49m\u001b[43m(\u001b[49m\u001b[43mX\u001b[49m\u001b[43m.\u001b[49m\u001b[43mcpu\u001b[49m\u001b[43m(\u001b[49m\u001b[43m)\u001b[49m\u001b[43m.\u001b[49m\u001b[43mnumpy\u001b[49m\u001b[43m(\u001b[49m\u001b[43m)\u001b[49m\u001b[43m,\u001b[49m\n\u001b[32m     40\u001b[39m \u001b[43m    \u001b[49m\u001b[43midx_train\u001b[49m\u001b[43m.\u001b[49m\u001b[43mtolist\u001b[49m\u001b[43m(\u001b[49m\u001b[43m)\u001b[49m\u001b[43m,\u001b[49m\n\u001b[32m     41\u001b[39m \u001b[43m    \u001b[49m\u001b[43my_train\u001b[49m\u001b[43m,\u001b[49m\u001b[43m \u001b[49m\u001b[43my_test\u001b[49m\u001b[43m,\u001b[49m\n\u001b[32m     42\u001b[39m \u001b[43m    \u001b[49m\u001b[43mbase_sigma\u001b[49m\u001b[43m,\u001b[49m\n\u001b[32m     43\u001b[39m \u001b[43m    \u001b[49m\u001b[43mlow_factor\u001b[49m\u001b[43m=\u001b[49m\u001b[32;43m0.85\u001b[39;49m\u001b[43m,\u001b[49m\n\u001b[32m     44\u001b[39m \u001b[43m    \u001b[49m\u001b[43mhigh_factor\u001b[49m\u001b[43m=\u001b[49m\u001b[32;43m1.80\u001b[39;49m\u001b[43m,\u001b[49m\n\u001b[32m     45\u001b[39m \u001b[43m    \u001b[49m\u001b[43mstep_factor\u001b[49m\u001b[43m=\u001b[49m\u001b[32;43m0.1\u001b[39;49m\n\u001b[32m     46\u001b[39m \u001b[43m)\u001b[49m\n",
            "\u001b[36mCell\u001b[39m\u001b[36m \u001b[39m\u001b[32mIn[32]\u001b[39m\u001b[32m, line 28\u001b[39m, in \u001b[36mplot_multiple_sigmas\u001b[39m\u001b[34m(X_np, labeled_indices, labels_partial, y_moons_unlabeled, base_sigma, low_factor, high_factor, step_factor)\u001b[39m\n\u001b[32m     25\u001b[39m \u001b[38;5;28;01mfor\u001b[39;00m i, sigma_val \u001b[38;5;129;01min\u001b[39;00m \u001b[38;5;28menumerate\u001b[39m(sigmas):\n\u001b[32m     26\u001b[39m     \u001b[38;5;66;03m# Run label propagation with current sigma        \u001b[39;00m\n\u001b[32m     27\u001b[39m     \u001b[38;5;28mprint\u001b[39m(\u001b[33mf\u001b[39m\u001b[33m\"\u001b[39m\u001b[33mFor simga value: \u001b[39m\u001b[38;5;132;01m{\u001b[39;00msigma_val\u001b[38;5;132;01m}\u001b[39;00m\u001b[33m\"\u001b[39m)\n\u001b[32m---> \u001b[39m\u001b[32m28\u001b[39m     pred1 = \u001b[43mlabel_propagation\u001b[49m\u001b[43m(\u001b[49m\u001b[43mX_np\u001b[49m\u001b[43m,\u001b[49m\u001b[43m \u001b[49m\u001b[43mlabeled_indices\u001b[49m\u001b[43m,\u001b[49m\u001b[43m \u001b[49m\u001b[43mlabels_partial\u001b[49m\u001b[43m,\u001b[49m\u001b[43msigma\u001b[49m\u001b[43m=\u001b[49m\u001b[43msigma_val\u001b[49m\u001b[43m)\u001b[49m\n\u001b[32m     29\u001b[39m     \u001b[38;5;66;03m# calculate accuracy f1 from ymoons and preds1\u001b[39;00m\n\u001b[32m     30\u001b[39m     \u001b[38;5;28mprint\u001b[39m(\u001b[33m\"\u001b[39m\u001b[33mAccuracy:\u001b[39m\u001b[33m\"\u001b[39m,np.mean(y_moons_unlabeled == pred1))\n",
            "\u001b[36mCell\u001b[39m\u001b[36m \u001b[39m\u001b[32mIn[19]\u001b[39m\u001b[32m, line 12\u001b[39m, in \u001b[36mlabel_propagation\u001b[39m\u001b[34m(X, labeled_indices, labels_partial, sigma)\u001b[39m\n\u001b[32m      8\u001b[39m     all_labels[idx] = labels_partial[i]\n\u001b[32m     10\u001b[39m unlabeled_indices = [i \u001b[38;5;28;01mfor\u001b[39;00m i \u001b[38;5;129;01min\u001b[39;00m \u001b[38;5;28mrange\u001b[39m(N) \u001b[38;5;28;01mif\u001b[39;00m i \u001b[38;5;129;01mnot\u001b[39;00m \u001b[38;5;129;01min\u001b[39;00m labeled_indices]\n\u001b[32m---> \u001b[39m\u001b[32m12\u001b[39m dist_matrix = \u001b[43mtorch\u001b[49m\u001b[43m.\u001b[49m\u001b[43mcdist\u001b[49m\u001b[43m(\u001b[49m\u001b[43mX\u001b[49m\u001b[43m,\u001b[49m\u001b[43m \u001b[49m\u001b[43mX\u001b[49m\u001b[43m,\u001b[49m\u001b[43m \u001b[49m\u001b[43mp\u001b[49m\u001b[43m=\u001b[49m\u001b[32;43m2\u001b[39;49m\u001b[43m)\u001b[49m\n\u001b[32m     13\u001b[39m W = torch.exp(-dist_matrix ** \u001b[32m2\u001b[39m / (\u001b[32m2\u001b[39m * sigma ** \u001b[32m2\u001b[39m))\n\u001b[32m     15\u001b[39m W_UL = W[unlabeled_indices][:, labeled_indices]\n",
            "\u001b[36mFile \u001b[39m\u001b[32mc:\\Users\\adity\\AppData\\Local\\Programs\\Python\\Python313\\Lib\\site-packages\\torch\\functional.py:1505\u001b[39m, in \u001b[36mcdist\u001b[39m\u001b[34m(x1, x2, p, compute_mode)\u001b[39m\n\u001b[32m   1501\u001b[39m     \u001b[38;5;28;01mreturn\u001b[39;00m handle_torch_function(\n\u001b[32m   1502\u001b[39m         cdist, (x1, x2), x1, x2, p=p, compute_mode=compute_mode\n\u001b[32m   1503\u001b[39m     )\n\u001b[32m   1504\u001b[39m \u001b[38;5;28;01mif\u001b[39;00m compute_mode == \u001b[33m\"\u001b[39m\u001b[33muse_mm_for_euclid_dist_if_necessary\u001b[39m\u001b[33m\"\u001b[39m:\n\u001b[32m-> \u001b[39m\u001b[32m1505\u001b[39m     \u001b[38;5;28;01mreturn\u001b[39;00m \u001b[43m_VF\u001b[49m\u001b[43m.\u001b[49m\u001b[43mcdist\u001b[49m\u001b[43m(\u001b[49m\u001b[43mx1\u001b[49m\u001b[43m,\u001b[49m\u001b[43m \u001b[49m\u001b[43mx2\u001b[49m\u001b[43m,\u001b[49m\u001b[43m \u001b[49m\u001b[43mp\u001b[49m\u001b[43m,\u001b[49m\u001b[43m \u001b[49m\u001b[38;5;28;43;01mNone\u001b[39;49;00m\u001b[43m)\u001b[49m  \u001b[38;5;66;03m# type: ignore[attr-defined]\u001b[39;00m\n\u001b[32m   1506\u001b[39m \u001b[38;5;28;01melif\u001b[39;00m compute_mode == \u001b[33m\"\u001b[39m\u001b[33muse_mm_for_euclid_dist\u001b[39m\u001b[33m\"\u001b[39m:\n\u001b[32m   1507\u001b[39m     \u001b[38;5;28;01mreturn\u001b[39;00m _VF.cdist(x1, x2, p, \u001b[32m1\u001b[39m)  \u001b[38;5;66;03m# type: ignore[attr-defined]\u001b[39;00m\n",
            "\u001b[31mTypeError\u001b[39m: cdist(): argument 'x1' (position 1) must be Tensor, not numpy.ndarray"
          ]
        },
        {
          "data": {
            "text/plain": [
              "<Figure size 2000x1200 with 0 Axes>"
            ]
          },
          "metadata": {},
          "output_type": "display_data"
        }
      ],
      "source": [
        "import numpy as np\n",
        "import matplotlib.pyplot as plt\n",
        "from sklearn.datasets import make_moons\n",
        "from scipy.spatial.distance import pdist, squareform\n",
        "from matplotlib.colors import ListedColormap\n",
        "from sklearn.metrics import f1_score\n",
        "\n",
        "def plot_multiple_sigmas(X_np, labeled_indices, labels_partial,y_moons_unlabeled, base_sigma,\n",
        "                         low_factor=0.85, high_factor=1.25, step_factor=0.05):\n",
        "\n",
        "    factors = np.arange(low_factor, high_factor + step_factor, step_factor)\n",
        "    factors = [round(f, 2) for f in factors]\n",
        "    sigmas = [f * base_sigma for f in factors]\n",
        "\n",
        "    # Calculate grid dimensions for subplots\n",
        "    n_sigmas = len(sigmas)\n",
        "    n_cols = 4\n",
        "    n_rows = (n_sigmas + n_cols - 1) // n_cols\n",
        "    ref_pred1 = None\n",
        "\n",
        "    plt.figure(figsize=(5 * n_cols, 4 * n_rows))\n",
        "    plt.suptitle(f\"Label Propagation Results with Varying σ (Base σ={base_sigma:.4f})\", fontsize=16)\n",
        "\n",
        "    for i, sigma_val in enumerate(sigmas):\n",
        "        # Run label propagation with current sigma        \n",
        "        print(f\"For simga value: {sigma_val}\")\n",
        "        pred1 = label_propagation(X_np, labeled_indices, labels_partial,sigma=sigma_val)\n",
        "        # calculate accuracy f1 from ymoons and preds1\n",
        "        print(\"Accuracy:\",np.mean(y_moons_unlabeled == pred1))\n",
        "        # calculate  f1 from ymoons and preds1\n",
        "        print(\"F1 Score:\",f1_score(y_moons_unlabeled, pred1))\n",
        "\n",
        "\n",
        "# --- Compute Base Sigma ---\n",
        "base_sigma = compute_sigma(X.cpu().numpy())\n",
        "\n",
        "# --- Plot Results for Multiple Sigmas ---\n",
        "plot_multiple_sigmas(X.cpu().numpy(),\n",
        "    idx_train.tolist(),\n",
        "    y_train, y_test,\n",
        "    base_sigma,\n",
        "    low_factor=0.85,\n",
        "    high_factor=1.80,\n",
        "    step_factor=0.1\n",
        ")"
      ]
    },
    {
      "cell_type": "code",
      "execution_count": null,
      "metadata": {
        "id": "o2EuXbPClKqk"
      },
      "outputs": [],
      "source": [
        "import torch\n",
        "\n",
        "def euclidean_matrix_sum(X, Y, block_size=1000):\n",
        "    \"\"\"Compute sum of squared pairwise Euclidean distances between X and Y.\"\"\"\n",
        "    mSum = 0\n",
        "    nX, nY = X.shape[0], Y.shape[0]\n",
        "    for i in range(0, nX, block_size):\n",
        "        Xi = X[i:i+block_size]\n",
        "        for j in range(0, nY, block_size):\n",
        "            Yj = Y[j:j+block_size]\n",
        "            dist = torch.cdist(Xi, Yj, p=2) ** 2\n",
        "            mSum += dist.sum().item()\n",
        "    return mSum\n",
        "\n",
        "def sigma_selection_class_weighted(X, y, method='w1'):\n",
        "    \"\"\"\n",
        "    Computes optimal sigma using Liu's method with class size weighting.\n",
        "    X: (N, d) tensor\n",
        "    y: (N,) tensor of class labels\n",
        "    \"\"\"\n",
        "    X = X.float()\n",
        "    y = y.long()\n",
        "    classes = torch.unique(y)\n",
        "    n_class = len(classes)\n",
        "    n_samples = X.shape[0]\n",
        "\n",
        "    W_sum = 0.0\n",
        "    B_sum = 0.0\n",
        "    W_weight = 0.0\n",
        "    B_weight = 0.0\n",
        "\n",
        "    for i in range(n_class):\n",
        "        for j in range(i, n_class):\n",
        "            idx_i = (y == classes[i])\n",
        "            idx_j = (y == classes[j])\n",
        "            Xi = X[idx_i]\n",
        "            Xj = X[idx_j]\n",
        "\n",
        "            if Xi.shape[0] == 0 or Xj.shape[0] == 0:\n",
        "                continue\n",
        "\n",
        "            dist_sum = euclidean_matrix_sum(Xi, Xj)\n",
        "\n",
        "            if i == j:\n",
        "                w = 1.0 / (Xi.shape[0] ** 2)\n",
        "                W_sum += w * dist_sum\n",
        "                W_weight += 1\n",
        "            else:\n",
        "                w = 1.0 / (Xi.shape[0] * Xj.shape[0])\n",
        "                B_sum += w * dist_sum\n",
        "                B_weight += 1\n",
        "\n",
        "    if W_weight == 0 or B_weight == 0:\n",
        "        raise ValueError(\"Insufficient class diversity for sigma estimation.\")\n",
        "\n",
        "    W_bar = W_sum / W_weight\n",
        "    B_bar = B_sum / B_weight\n",
        "\n",
        "    if W_bar >= B_bar:\n",
        "        raise ValueError(\"W_bar >= B_bar; Liu method not applicable.\")\n",
        "\n",
        "    B_bar_t = torch.tensor(B_bar)\n",
        "    W_bar_t = torch.tensor(W_bar)\n",
        "    # Liu's sigma formulas\n",
        "    if method == 'w1':\n",
        "        sigma = torch.sqrt((B_bar_t - W_bar_t) / (2 * torch.log(B_bar_t / W_bar_t)))\n",
        "    elif method == 'w2':\n",
        "        sigma = torch.sqrt((B_bar_t - W_bar_t) / (4 * torch.log(B_bar_t / W_bar_t)))\n",
        "    else:\n",
        "        raise ValueError(\"Method must be 'w1' or 'w2'\")\n",
        "\n",
        "    return sigma.item(), B_bar_t, W_bar_t\n"
      ]
    },
    {
      "cell_type": "code",
      "execution_count": null,
      "metadata": {
        "colab": {
          "base_uri": "https://localhost:8080/"
        },
        "id": "dCJ9RSQclEC9",
        "outputId": "94c77f1b-9bbe-45ae-bfea-bcc6afc4a139"
      },
      "outputs": [
        {
          "name": "stdout",
          "output_type": "stream",
          "text": [
            "Optimal σ: 4.6980, B̄: 48.1392, W̄: 40.3741\n"
          ]
        }
      ],
      "source": [
        "from sklearn.datasets import make_classification\n",
        "import matplotlib.pyplot as plt\n",
        "\n",
        "X_np, y_np = make_classification(n_samples=500, n_classes=3, weights=[0.7, 0.2, 0.1], n_informative=5, n_features=10, random_state=42)\n",
        "X = torch.from_numpy(X_np)\n",
        "y = torch.from_numpy(y_np)\n",
        "\n",
        "sigma, B_bar, W_bar = sigma_selection_class_weighted(X, y, method='w1')\n",
        "print(f\"Optimal σ: {sigma:.4f}, B̄: {B_bar:.4f}, W̄: {W_bar:.4f}\")\n"
      ]
    },
    {
      "cell_type": "markdown",
      "metadata": {
        "id": "z2eH_S44lMUI"
      },
      "source": [
        "# LPA"
      ]
    },
    {
      "cell_type": "code",
      "execution_count": null,
      "metadata": {
        "id": "QsQriFsGqPPh"
      },
      "outputs": [],
      "source": [
        "def compute_sigma(X):\n",
        "    N = X.shape[0]\n",
        "    sq_dists = []\n",
        "    for i in range(N):\n",
        "        for j in range(i+1, N):\n",
        "            sq_dists.append(np.sum((X[i] - X[j])**2))\n",
        "    med_sq = np.median(sq_dists)\n",
        "    sigma = np.sqrt(med_sq / 3)\n",
        "    return sigma"
      ]
    },
    {
      "cell_type": "code",
      "execution_count": null,
      "metadata": {
        "colab": {
          "base_uri": "https://localhost:8080/"
        },
        "id": "dlmdL7xNq2_7",
        "outputId": "1a1242b2-eb4d-4274-e4d5-43137b6c24bc"
      },
      "outputs": [
        {
          "name": "stdout",
          "output_type": "stream",
          "text": [
            "1.3625955623979797\n"
          ]
        }
      ],
      "source": [
        "sigma = compute_sigma(X)\n",
        "print(sigma)"
      ]
    },
    {
      "cell_type": "code",
      "execution_count": null,
      "metadata": {
        "id": "aym1ZbFmmk5a"
      },
      "outputs": [],
      "source": [
        "def label_propagation(X, labeled_indices, labels_partial, sigma=None):\n",
        "    N = X.shape[0]\n",
        "    all_labels = np.full(N, -1)\n",
        "    for i, idx in enumerate(labeled_indices):\n",
        "        all_labels[idx] = labels_partial[i]\n",
        "\n",
        "    unlabeled_indices = [i for i in range(N) if i not in labeled_indices]\n",
        "\n",
        "    dist_matrix = np.linalg.norm(X[:, None, :] - X[None, :, :], axis=2)\n",
        "    # print(sigma)\n",
        "    W = np.exp(-dist_matrix ** 2 / (2 * sigma ** 2))\n",
        "    D = np.diag(W.sum(axis=1))\n",
        "\n",
        "    W_UL = W[np.ix_(unlabeled_indices, labeled_indices)]\n",
        "    W_UU = W[np.ix_(unlabeled_indices, unlabeled_indices)]\n",
        "\n",
        "    # print(D_LL)\n",
        "    k = len(np.unique(labels_partial))\n",
        "    YL = np.zeros((len(labeled_indices), k))\n",
        "    for i, idx in enumerate(labeled_indices):\n",
        "        YL[i, all_labels[idx]] = 1\n",
        "\n",
        "    I = np.identity(W_UU.shape[0])\n",
        "    YU = np.linalg.pinv(I - W_UU).dot(W_UL).dot(YL)\n",
        "    y_pred = np.argmax(YU, axis = 1)\n",
        "    return y_pred"
      ]
    },
    {
      "cell_type": "code",
      "execution_count": null,
      "metadata": {
        "id": "gBMLP2HtqJDs"
      },
      "outputs": [],
      "source": [
        "all_indices = np.arange(len(X))\n",
        "XL,XU, YL,YU, idx_L, idx_U = train_test_split(X, y,all_indices, test_size=0.3, random_state=42)\n"
      ]
    },
    {
      "cell_type": "code",
      "execution_count": null,
      "metadata": {
        "colab": {
          "base_uri": "https://localhost:8080/"
        },
        "id": "qpMAI__dm1iq",
        "outputId": "7bc9aa82-a3ec-47a4-f068-6dfa9d7e603e"
      },
      "outputs": [
        {
          "name": "stdout",
          "output_type": "stream",
          "text": [
            "F1 Score is: 0.3625420292086959\n"
          ]
        }
      ],
      "source": [
        "from sklearn.metrics import f1_score\n",
        "YU_pred = label_propagation(X, idx_L, YL,sigma)\n",
        "print(\"F1 Score is:\",f1_score(YU, YU_pred, average='macro'))"
      ]
    },
    {
      "cell_type": "code",
      "execution_count": null,
      "metadata": {
        "id": "MUsb9gjaoqBb"
      },
      "outputs": [],
      "source": []
    }
  ],
  "metadata": {
    "colab": {
      "collapsed_sections": [
        "z2eH_S44lMUI"
      ],
      "provenance": []
    },
    "kernelspec": {
      "display_name": "Python 3",
      "name": "python3"
    },
    "language_info": {
      "codemirror_mode": {
        "name": "ipython",
        "version": 3
      },
      "file_extension": ".py",
      "mimetype": "text/x-python",
      "name": "python",
      "nbconvert_exporter": "python",
      "pygments_lexer": "ipython3",
      "version": "3.13.5"
    }
  },
  "nbformat": 4,
  "nbformat_minor": 0
}
