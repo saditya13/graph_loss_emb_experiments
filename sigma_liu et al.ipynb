{
  "cells": [
    {
      "cell_type": "markdown",
      "metadata": {
        "id": "gD-tAl7jlxKV"
      },
      "source": [
        "# Liu et al optimal sigma"
      ]
    },
    {
      "cell_type": "code",
      "execution_count": 22,
      "metadata": {},
      "outputs": [],
      "source": [
        "import numpy as np\n",
        "import pandas as pd\n",
        "import torch\n",
        "from sklearn.datasets import make_classification,make_moons, load_wine, load_iris\n",
        "from sklearn.metrics import f1_score,accuracy_score\n",
        "from sklearn.model_selection import train_test_split\n",
        "from scipy.spatial.distance import pdist, squareform\n",
        "import matplotlib.pyplot as plt\n",
        "device = torch.device(\"cuda\" if torch.cuda.is_available() else \"cpu\")"
      ]
    },
    {
      "cell_type": "code",
      "execution_count": 23,
      "metadata": {},
      "outputs": [],
      "source": [
        "def sigma_selection_torch(X, y, method='w1'):\n",
        "    \"\"\"\n",
        "    PyTorch version of sigmaSelection.m by Zhiliang Liu (2013).\n",
        "\n",
        "    Args:\n",
        "        X (Tensor): (N, D) feature matrix\n",
        "        y (Tensor): (N,) integer class labels\n",
        "        method (str): either 'w1' or 'w2'\n",
        "\n",
        "    Returns:\n",
        "        opt_sigma (float): optimal sigma\n",
        "        B_bar (float)\n",
        "        W_bar (float)\n",
        "    \"\"\"\n",
        "    assert method in ['w1', 'w2'], \"method must be 'w1' or 'w2'\"\n",
        "\n",
        "    X = torch.tensor(X,dtype=torch.float32)\n",
        "    y = torch.tensor(y,dtype=torch.long)\n",
        "    X = (X - X.mean(dim=0)) / (X.std(dim=0) + 1e-8)  # Z-score normalization\n",
        "\n",
        "    classes = torch.unique(y)\n",
        "    n_class = len(classes)\n",
        "    n_samples = X.shape[0]\n",
        "    class_sizes = torch.tensor([(y == c).sum() for c in classes], dtype=torch.float32)\n",
        "    W_sum, B_sum = 0.0, 0.0\n",
        "\n",
        "    for i in range(n_class):\n",
        "        for j in range(i, n_class):\n",
        "            idx_i = (y == classes[i])\n",
        "            idx_j = (y == classes[j])\n",
        "            Xi = X[idx_i]\n",
        "            Xj = X[idx_j]\n",
        "            dist_sum = euclidean_matrix_sum(Xi, Xj)\n",
        "            if i == j:\n",
        "                W_sum += dist_sum\n",
        "            else:\n",
        "                B_sum += dist_sum\n",
        "\n",
        "    nW = (class_sizes**2).sum().item()\n",
        "    nB = (n_samples**2 - nW) / 2\n",
        "    W_bar = W_sum / nW\n",
        "    B_bar = B_sum / nB\n",
        "\n",
        "    if W_bar >= B_bar:\n",
        "        raise ValueError(\"W_bar >= B_bar! The method is not applicable!\")\n",
        "\n",
        "    log_ratio = torch.log(torch.tensor(B_bar / W_bar))\n",
        "    if method == 'w1':\n",
        "        opt_sigma = torch.sqrt((B_bar - W_bar) / (2 * log_ratio))\n",
        "    else:  # method == 'w2'\n",
        "        opt_sigma = torch.sqrt((B_bar - W_bar) / (4 * log_ratio))\n",
        "\n",
        "    return opt_sigma.item()\n",
        "\n",
        "def euclidean_matrix_sum(X, Y, block_size=1000):\n",
        "    \"\"\"\n",
        "    Computes the sum of squared pairwise Euclidean distances between two matrices.\n",
        "    \"\"\"\n",
        "    X = X.float()\n",
        "    Y = Y.float()\n",
        "    mSum = 0.0\n",
        "    n1, n2 = X.shape[0], Y.shape[0]\n",
        "\n",
        "    for i in range(0, n1, block_size):\n",
        "        i_end = min(i + block_size, n1)\n",
        "        Xi = X[i:i_end]\n",
        "        for j in range(0, n2, block_size):\n",
        "            j_end = min(j + block_size, n2)\n",
        "            Yj = Y[j:j_end]\n",
        "            dist = torch.cdist(Xi, Yj, p=2) ** 2\n",
        "            mSum += dist.sum().item()\n",
        "    return mSum\n"
      ]
    },
    {
      "cell_type": "code",
      "execution_count": 24,
      "metadata": {
        "colab": {
          "base_uri": "https://localhost:8080/"
        },
        "id": "ZB_n3WKJdp4O",
        "outputId": "ef752d34-5d0a-41cc-da68-c11a1f53fc83"
      },
      "outputs": [],
      "source": [
        "# X: torch.tensor (N, D)\n",
        "# y: torch.tensor (N,)\n",
        "\n",
        "# X, y = make_moons(n_samples=385, noise=0.1, random_state=0, shuffle=False)\n",
        "# X, y = make_classification(n_samples=500, n_classes=3, weights=[0.7, 0.2, 0.1], n_informative=5, n_features=10, random_state=42)\n",
        "# X,y = load_iris(return_X_y=True)\n",
        "# Convert properly to torch tensors\n",
        "# X_tensor = torch.from_numpy(X).float()\n",
        "# y_tensor = torch.from_numpy(y).long()\n",
        "# print(X_tensor.shape, y_tensor.shape, np.unique(y_tensor).shape[0])\n",
        "\n",
        "# opt_sigma,B_bar, W_bar = sigma_selection_torch(X, y, method='w1')\n",
        "# print(f\"Optimal σ: {opt_sigma:.4f}\")"
      ]
    },
    {
      "cell_type": "markdown",
      "metadata": {
        "id": "l-2N0DjPlFKt"
      },
      "source": [
        "# class weighted sigma\n"
      ]
    },
    {
      "cell_type": "code",
      "execution_count": 25,
      "metadata": {},
      "outputs": [],
      "source": [
        "# ---------- Label Propagation ----------\n",
        "def lpa_predict(x, y, sigma,split):\n",
        "\n",
        "    # divide the data into train-test\n",
        "    id = np.arange(len(x))\n",
        "    X_train, X_test, Y_train, Y_test, idx_train, idx_test = train_test_split(x, y, id, test_size=split,stratify=y, random_state=42)\n",
        "\n",
        "    # vertically stack X_train and X-test.\n",
        "    shuffled_features = np.vstack((X_train, X_test))\n",
        "\n",
        "    # compute guassian distance between the data points to get the adjacency matrix (weight matrix)\n",
        "    pairwise_sq_dists = squareform(pdist(shuffled_features, 'euclidean'))\n",
        "    weight = np.exp(-pairwise_sq_dists / (2 * sigma ** 2))\n",
        "    np.fill_diagonal(weight, 0)\n",
        "\n",
        "    # Transition matrix\n",
        "    Tran = weight / np.sum(weight, axis=0)\n",
        "    row_sums = np.sum(Tran, axis=1)\n",
        "    T = Tran / row_sums\n",
        "\n",
        "    # combine the y_train and y_test to get the combined y (labels of data points)\n",
        "    y_concat = np.concatenate((Y_train, Y_test))\n",
        "    y_onehot = pd.get_dummies((y_concat), dtype=float).values  # labels converted to one-hot encoded form\n",
        "\n",
        "    # Removing labels for test data points\n",
        "    y_new = y_onehot.copy()\n",
        "    y_new[Y_train.shape[0]:] = [0, 0, 0]  # Assuming 3 classes for Iris dataset\n",
        "    y_labeled = y_new[:Y_train.shape[0]]\n",
        "\n",
        "    # partitioning transition matrix\n",
        "    T_ll = T[:y_labeled.shape[0], :y_labeled.shape[0]]\n",
        "    T_lu = T[:y_labeled.shape[0], y_labeled.shape[0]:]\n",
        "    T_ul = T[y_labeled.shape[0]:, :y_labeled.shape[0]]\n",
        "    T_uu = T[y_labeled.shape[0]:, y_labeled.shape[0]:]\n",
        "\n",
        "    # Predicting labels for test data points\n",
        "    I = np.identity(T_uu.shape[0])\n",
        "    YU = np.linalg.inv(I - T_uu).dot(T_ul).dot(y_labeled)\n",
        "\n",
        "    y_pred = np.argmax(YU, axis=1)\n",
        "    y_actual = np.argmax(y_onehot[Y_train.shape[0]:], axis=1)\n",
        "\n",
        "    # Accuracy and F1 score\n",
        "    accuracy = accuracy_score(y_pred, y_actual)\n",
        "    f1_value = f1_score(y_pred, y_actual, average='macro')\n",
        "\n",
        "    return y_pred, y_actual, accuracy,f1_value"
      ]
    },
    {
      "cell_type": "code",
      "execution_count": 26,
      "metadata": {},
      "outputs": [],
      "source": [
        "# ---------- Sigma Estimators ----------\n",
        "def median_sigma(X):\n",
        "    X_tensor = torch.from_numpy(X).float()\n",
        "    dists = torch.cdist(X_tensor, X_tensor, p=2)\n",
        "    median_val = torch.median(dists[dists > 0])\n",
        "    return median_val.item()\n",
        "\n",
        "def sqrt_median_div_3_sigma(X):\n",
        "    X_tensor = torch.from_numpy(X).float()\n",
        "    dists = torch.cdist(X_tensor, X_tensor, p=2)\n",
        "    median_sq = torch.median(dists[dists > 0])\n",
        "    return torch.sqrt(median_sq / 3).item()\n",
        "\n",
        "def sigma_selection_class_weighted(X, y, use_weights=True):\n",
        "    X = torch.from_numpy(X).float()\n",
        "    y = torch.from_numpy(y).long()\n",
        "    device = X.device\n",
        "    classes = torch.unique(y)\n",
        "    W_sum, B_sum = 0.0, 0.0\n",
        "    W_weight, B_weight = 0.0, 0.0\n",
        "\n",
        "    for i in range(len(classes)):\n",
        "        for j in range(i, len(classes)):\n",
        "            idx_i = (y == classes[i])\n",
        "            idx_j = (y == classes[j])\n",
        "            Xi, Xj = X[idx_i], X[idx_j]\n",
        "\n",
        "            if Xi.shape[0] == 0 or Xj.shape[0] == 0:\n",
        "                continue\n",
        "\n",
        "            dist_sum = (torch.cdist(Xi, Xj, p=2) ** 2).sum().item()\n",
        "\n",
        "            if i == j:\n",
        "                w = 1.0 / (Xi.shape[0] ** 2) if use_weights else 1.0\n",
        "                W_sum += w * dist_sum\n",
        "                W_weight += 1\n",
        "            else:\n",
        "                w = 1.0 / (Xi.shape[0] * Xj.shape[0]) if use_weights else 1.0\n",
        "                B_sum += w * dist_sum\n",
        "                B_weight += 1\n",
        "\n",
        "    W_bar = W_sum / W_weight\n",
        "    B_bar = B_sum / B_weight\n",
        "\n",
        "    if W_bar >= B_bar:\n",
        "        raise ValueError(\"W̄ ≥ B̄ — Liu's method not applicable.\")\n",
        "\n",
        "    W_bar_t = torch.tensor(W_bar)\n",
        "    B_bar_t = torch.tensor(B_bar)\n",
        "    sigma = torch.sqrt((B_bar_t - W_bar_t) / (2 * torch.log(B_bar_t / W_bar_t)))\n",
        "    return sigma.item()"
      ]
    },
    {
      "cell_type": "code",
      "execution_count": null,
      "metadata": {
        "colab": {
          "base_uri": "https://localhost:8080/",
          "height": 558
        },
        "id": "1KUcFYthm2i7",
        "outputId": "7ce9292c-ecd6-479d-bc22-ed4e77e920c3"
      },
      "outputs": [
        {
          "name": "stdout",
          "output_type": "stream",
          "text": [
            "median                 σ = 9.2613 → Accuracy = 0.6956, Macro-F1 = 0.2735\n",
            "sqrt(median/3)         σ = 1.7570 → Accuracy = 0.6956, Macro-F1 = 0.2735\n",
            "liu                    σ = 3.1630 → Accuracy = 0.6956, Macro-F1 = 0.2735\n",
            "class_weighted_liu     σ = 7.2075 → Accuracy = 0.6956, Macro-F1 = 0.2735\n"
          ]
        },
        {
          "data": {
            "image/png": "[encoded data removed]",
            "text/plain": [
              "<Figure size 640x480 with 1 Axes>"
            ]
          },
          "metadata": {},
          "output_type": "display_data"
        }
      ],
      "source": [
        "# ---------- Main Evaluation ----------\n",
        "def run_sigma_eval(X_np, y_np):\n",
        "    # Create imbalanced dataset\n",
        "    results = {}\n",
        "    sigma_methods = {\n",
        "        \"median\": median_sigma,\n",
        "        \"sqrt(median/3)\": sqrt_median_div_3_sigma,\n",
        "        \"liu\": lambda X: sigma_selection_torch(X_np, y_np, method='w1'),\n",
        "        \"class_weighted_liu\": lambda X: sigma_selection_class_weighted(X_np, y_np)\n",
        "    }\n",
        "\n",
        "    for name, sigma_fn in sigma_methods.items():\n",
        "        try:\n",
        "            sigma = sigma_fn(X_np)\n",
        "            y_pred,y_actual,acc,macro_f1 = lpa_predict(X_np, y_np,sigma,0.3)\n",
        "            results[name] = (sigma, macro_f1)\n",
        "            print(f\"{name:22s} σ = {sigma:.4f} → Accuracy = {acc:.4f}, Macro-F1 = {macro_f1:.4f}\")\n",
        "        except Exception as e:\n",
        "            print(f\"{name:22s} failed: {e}\")\n",
        "            results[name] = (None, 0)\n",
        "\n",
        "    # Plot\n",
        "    plt.bar(results.keys(), [v[1] for v in results.values()])\n",
        "    plt.ylabel(\"Macro-F1 Score\")\n",
        "    plt.title(\"Evaluation of Different Sigma Estimators\")\n",
        "    plt.xticks(rotation=15)\n",
        "    plt.grid(True, axis='y')\n",
        "    plt.show()\n",
        "\n",
        "\n"
      ]
    },
    {
      "cell_type": "code",
      "execution_count": null,
      "metadata": {},
      "outputs": [
        {
          "data": {
            "image/png": "[encoded data removed]",
            "text/plain": [
              "<Figure size 1000x500 with 1 Axes>"
            ]
          },
          "metadata": {},
          "output_type": "display_data"
        }
      ],
      "source": [
        "# plotting the results\n",
        "import matplotlib.pyplot as plt\n",
        "X_np, y_np = make_classification(n_samples=1500, n_features=10, n_classes=3,\n",
        "                                     n_informative=8,weights=[0.7, 0.1, 0.2],\n",
        "                                     random_state=0)\n",
        "# X_np,y_np = load_iris(return_X_y=True)\n",
        "\n",
        "# Run evaluation\n",
        "run_sigma_eval()\n",
        "\n",
        "#Optimal sigma\n",
        "sigma_values = np.arange(0.1, 10.0, 0.1)\n",
        "accuracy_values = []\n",
        "f1_values = []\n",
        "\n",
        "for i in sigma_values:\n",
        "    y_pred, y_actual, acc, f1_value = lpa_predict(x, y, i,0.3)\n",
        "    accuracy_values.append(acc)\n",
        "    f1_values.append(f1_value)\n",
        "\n",
        "plt.figure(figsize=(10, 5))\n",
        "plt.plot(sigma_values, accuracy_values, label='Accuracy')\n",
        "plt.plot(sigma_values, f1_values, label='F1 Score (macro)')\n",
        "plt.xlabel('Sigma')\n",
        "plt.ylabel('Score')\n",
        "plt.title('Accuracy and F1 Score vs. Sigma')\n",
        "plt.legend()\n",
        "plt.grid(True)\n",
        "plt.show()"
      ]
    },
    {
      "cell_type": "markdown",
      "metadata": {},
      "source": [
        "# optimal sigma "
      ]
    },
    {
      "cell_type": "code",
      "execution_count": 29,
      "metadata": {},
      "outputs": [],
      "source": [
        "def compute_sigma(X):\n",
        "    N = X.shape[0]\n",
        "    sq_dists = []\n",
        "    for i in range(N):\n",
        "        for j in range(i+1, N):\n",
        "            sq_dists.append(np.sum((X[i] - X[j])**2))\n",
        "    med_sq = np.median(sq_dists)\n",
        "    sigma = np.sqrt(med_sq / 3)\n",
        "    print(\"computed sigma\",sigma)\n",
        "    return sigma"
      ]
    },
    {
      "cell_type": "code",
      "execution_count": 30,
      "metadata": {},
      "outputs": [
        {
          "ename": "AttributeError",
          "evalue": "'numpy.ndarray' object has no attribute 'cpu'",
          "output_type": "error",
          "traceback": [
            "\u001b[31m---------------------------------------------------------------------------\u001b[39m",
            "\u001b[31mAttributeError\u001b[39m                            Traceback (most recent call last)",
            "\u001b[36mCell\u001b[39m\u001b[36m \u001b[39m\u001b[32mIn[30]\u001b[39m\u001b[32m, line 32\u001b[39m\n\u001b[32m     28\u001b[39m         \u001b[38;5;28mprint\u001b[39m(\u001b[33m\"\u001b[39m\u001b[33mF1 Score:\u001b[39m\u001b[33m\"\u001b[39m,f1_score(y_moons_unlabeled, pred1.cpu().numpy(), average=\u001b[33m'\u001b[39m\u001b[33mmacro\u001b[39m\u001b[33m'\u001b[39m))\n\u001b[32m     31\u001b[39m \u001b[38;5;66;03m# --- Compute Base Sigma ---\u001b[39;00m\n\u001b[32m---> \u001b[39m\u001b[32m32\u001b[39m base_sigma = compute_sigma(\u001b[43mX\u001b[49m\u001b[43m.\u001b[49m\u001b[43mcpu\u001b[49m().numpy())\n\u001b[32m     34\u001b[39m \u001b[38;5;66;03m# --- Plot Results for Multiple Sigmas ---\u001b[39;00m\n\u001b[32m     35\u001b[39m plot_multiple_sigmas(X.cpu().numpy(),\n\u001b[32m     36\u001b[39m     idx_train.tolist(),\n\u001b[32m     37\u001b[39m     y_train, y_test,\n\u001b[32m   (...)\u001b[39m\u001b[32m     41\u001b[39m     step_factor=\u001b[32m0.1\u001b[39m\n\u001b[32m     42\u001b[39m )\n",
            "\u001b[31mAttributeError\u001b[39m: 'numpy.ndarray' object has no attribute 'cpu'"
          ]
        }
      ],
      "source": [
        "import numpy as np\n",
        "import matplotlib.pyplot as plt\n",
        "from sklearn.datasets import make_moons\n",
        "from scipy.spatial.distance import pdist, squareform\n",
        "from matplotlib.colors import ListedColormap\n",
        "from sklearn.metrics import f1_score\n",
        "\n",
        "def plot_multiple_sigmas(X_np, labeled_indices, labels_partial,y_moons_unlabeled, base_sigma,\n",
        "                         low_factor=0.85, high_factor=1.25, step_factor=0.05):\n",
        "\n",
        "    factors = np.arange(low_factor, high_factor + step_factor, step_factor)\n",
        "    factors = [round(f, 2) for f in factors]\n",
        "    sigmas = [f * base_sigma for f in factors]\n",
        "\n",
        "    # Calculate grid dimensions for subplots\n",
        "    n_sigmas = len(sigmas)\n",
        "    n_cols = 4\n",
        "    n_rows = (n_sigmas + n_cols - 1) // n_cols\n",
        "\n",
        "    # plt.figure(figsize=(5 * n_cols, 4 * n_rows))\n",
        "    # plt.suptitle(f\"Label Propagation Results with Varying σ (Base σ={base_sigma:.4f})\", fontsize=16)\n",
        "\n",
        "    for i, sigma_val in enumerate(sigmas):\n",
        "        # Run label propagation with current sigma        \n",
        "        print(f\"For simga value: {sigma_val}\")\n",
        "        pred1 = label_propagation(torch.from_numpy(X_np).float(), labeled_indices, labels_partial,sigma=sigma_val)\n",
        "        print(\"Accuracy:\",np.mean(y_moons_unlabeled == pred1.cpu().numpy()))\n",
        "        print(\"F1 Score:\",f1_score(y_moons_unlabeled, pred1.cpu().numpy(), average='macro'))\n",
        "\n",
        "\n",
        "# --- Compute Base Sigma ---\n",
        "base_sigma = compute_sigma(X.cpu().numpy())\n",
        "\n",
        "# --- Plot Results for Multiple Sigmas ---\n",
        "plot_multiple_sigmas(X.cpu().numpy(),\n",
        "    idx_train.tolist(),\n",
        "    y_train, y_test,\n",
        "    base_sigma,\n",
        "    low_factor=0.5,\n",
        "    high_factor=2.0,\n",
        "    step_factor=0.1\n",
        ")"
      ]
    },
    {
      "cell_type": "code",
      "execution_count": null,
      "metadata": {
        "id": "o2EuXbPClKqk"
      },
      "outputs": [],
      "source": [
        "import torch\n",
        "\n",
        "def euclidean_matrix_sum(X, Y, block_size=1000):\n",
        "    \"\"\"Compute sum of squared pairwise Euclidean distances between X and Y.\"\"\"\n",
        "    mSum = 0\n",
        "    nX, nY = X.shape[0], Y.shape[0]\n",
        "    for i in range(0, nX, block_size):\n",
        "        Xi = X[i:i+block_size]\n",
        "        for j in range(0, nY, block_size):\n",
        "            Yj = Y[j:j+block_size]\n",
        "            dist = torch.cdist(Xi, Yj, p=2) ** 2\n",
        "            mSum += dist.sum().item()\n",
        "    return mSum\n",
        "\n",
        "def sigma_selection_class_weighted(X, y, method='w1'):\n",
        "    \"\"\"\n",
        "    Computes optimal sigma using Liu's method with class size weighting.\n",
        "    X: (N, d) tensor\n",
        "    y: (N,) tensor of class labels\n",
        "    \"\"\"\n",
        "    X = X.float()\n",
        "    y = y.long()\n",
        "    classes = torch.unique(y)\n",
        "    n_class = len(classes)\n",
        "    n_samples = X.shape[0]\n",
        "\n",
        "    W_sum = 0.0\n",
        "    B_sum = 0.0\n",
        "    W_weight = 0.0\n",
        "    B_weight = 0.0\n",
        "\n",
        "    for i in range(n_class):\n",
        "        for j in range(i, n_class):\n",
        "            idx_i = (y == classes[i])\n",
        "            idx_j = (y == classes[j])\n",
        "            Xi = X[idx_i]\n",
        "            Xj = X[idx_j]\n",
        "\n",
        "            if Xi.shape[0] == 0 or Xj.shape[0] == 0:\n",
        "                continue\n",
        "\n",
        "            dist_sum = euclidean_matrix_sum(Xi, Xj)\n",
        "\n",
        "            if i == j:\n",
        "                w = 1.0 / (Xi.shape[0] ** 2)\n",
        "                W_sum += w * dist_sum\n",
        "                W_weight += 1\n",
        "            else:\n",
        "                w = 1.0 / (Xi.shape[0] * Xj.shape[0])\n",
        "                B_sum += w * dist_sum\n",
        "                B_weight += 1\n",
        "\n",
        "    if W_weight == 0 or B_weight == 0:\n",
        "        raise ValueError(\"Insufficient class diversity for sigma estimation.\")\n",
        "\n",
        "    W_bar = W_sum / W_weight\n",
        "    B_bar = B_sum / B_weight\n",
        "\n",
        "    if W_bar >= B_bar:\n",
        "        raise ValueError(\"W_bar >= B_bar; Liu method not applicable.\")\n",
        "\n",
        "    B_bar_t = torch.tensor(B_bar)\n",
        "    W_bar_t = torch.tensor(W_bar)\n",
        "    # Liu's sigma formulas\n",
        "    if method == 'w1':\n",
        "        sigma = torch.sqrt((B_bar_t - W_bar_t) / (2 * torch.log(B_bar_t / W_bar_t)))\n",
        "    elif method == 'w2':\n",
        "        sigma = torch.sqrt((B_bar_t - W_bar_t) / (4 * torch.log(B_bar_t / W_bar_t)))\n",
        "    else:\n",
        "        raise ValueError(\"Method must be 'w1' or 'w2'\")\n",
        "\n",
        "    return sigma.item(), B_bar_t, W_bar_t\n"
      ]
    },
    {
      "cell_type": "code",
      "execution_count": null,
      "metadata": {
        "colab": {
          "base_uri": "https://localhost:8080/"
        },
        "id": "dCJ9RSQclEC9",
        "outputId": "94c77f1b-9bbe-45ae-bfea-bcc6afc4a139"
      },
      "outputs": [
        {
          "name": "stdout",
          "output_type": "stream",
          "text": [
            "Optimal σ: 4.6980, B̄: 48.1392, W̄: 40.3741\n"
          ]
        }
      ],
      "source": [
        "from sklearn.datasets import make_classification\n",
        "import matplotlib.pyplot as plt\n",
        "\n",
        "X_np, y_np = make_classification(n_samples=500, n_classes=3, weights=[0.7, 0.2, 0.1], n_informative=5, n_features=10, random_state=42)\n",
        "X = torch.from_numpy(X_np)\n",
        "y = torch.from_numpy(y_np)\n",
        "\n",
        "sigma, B_bar, W_bar = sigma_selection_class_weighted(X, y, method='w1')\n",
        "print(f\"Optimal σ: {sigma:.4f}, B̄: {B_bar:.4f}, W̄: {W_bar:.4f}\")\n"
      ]
    },
    {
      "cell_type": "markdown",
      "metadata": {
        "id": "z2eH_S44lMUI"
      },
      "source": [
        "# LPA"
      ]
    },
    {
      "cell_type": "code",
      "execution_count": null,
      "metadata": {
        "id": "QsQriFsGqPPh"
      },
      "outputs": [],
      "source": [
        "def compute_sigma(X):\n",
        "    N = X.shape[0]\n",
        "    sq_dists = []\n",
        "    for i in range(N):\n",
        "        for j in range(i+1, N):\n",
        "            sq_dists.append(np.sum((X[i] - X[j])**2))\n",
        "    med_sq = np.median(sq_dists)\n",
        "    sigma = np.sqrt(med_sq / 3)\n",
        "    return sigma"
      ]
    },
    {
      "cell_type": "code",
      "execution_count": null,
      "metadata": {
        "colab": {
          "base_uri": "https://localhost:8080/"
        },
        "id": "dlmdL7xNq2_7",
        "outputId": "1a1242b2-eb4d-4274-e4d5-43137b6c24bc"
      },
      "outputs": [
        {
          "name": "stdout",
          "output_type": "stream",
          "text": [
            "1.3625955623979797\n"
          ]
        }
      ],
      "source": [
        "sigma = compute_sigma(X)\n",
        "print(sigma)"
      ]
    },
    {
      "cell_type": "code",
      "execution_count": null,
      "metadata": {
        "id": "aym1ZbFmmk5a"
      },
      "outputs": [],
      "source": [
        "def label_propagation(X, labeled_indices, labels_partial, sigma=None):\n",
        "    N = X.shape[0]\n",
        "    all_labels = np.full(N, -1)\n",
        "    for i, idx in enumerate(labeled_indices):\n",
        "        all_labels[idx] = labels_partial[i]\n",
        "\n",
        "    unlabeled_indices = [i for i in range(N) if i not in labeled_indices]\n",
        "\n",
        "    dist_matrix = np.linalg.norm(X[:, None, :] - X[None, :, :], axis=2)\n",
        "    # print(sigma)\n",
        "    W = np.exp(-dist_matrix ** 2 / (2 * sigma ** 2))\n",
        "    D = np.diag(W.sum(axis=1))\n",
        "\n",
        "    W_UL = W[np.ix_(unlabeled_indices, labeled_indices)]\n",
        "    W_UU = W[np.ix_(unlabeled_indices, unlabeled_indices)]\n",
        "\n",
        "    # print(D_LL)\n",
        "    k = len(np.unique(labels_partial))\n",
        "    YL = np.zeros((len(labeled_indices), k))\n",
        "    for i, idx in enumerate(labeled_indices):\n",
        "        YL[i, all_labels[idx]] = 1\n",
        "\n",
        "    I = np.identity(W_UU.shape[0])\n",
        "    YU = np.linalg.pinv(I - W_UU).dot(W_UL).dot(YL)\n",
        "    y_pred = np.argmax(YU, axis = 1)\n",
        "    return y_pred"
      ]
    },
    {
      "cell_type": "code",
      "execution_count": null,
      "metadata": {
        "id": "gBMLP2HtqJDs"
      },
      "outputs": [],
      "source": [
        "all_indices = np.arange(len(X))\n",
        "XL,XU, YL,YU, idx_L, idx_U = train_test_split(X, y,all_indices, test_size=0.3, random_state=42)\n"
      ]
    },
    {
      "cell_type": "code",
      "execution_count": null,
      "metadata": {
        "colab": {
          "base_uri": "https://localhost:8080/"
        },
        "id": "qpMAI__dm1iq",
        "outputId": "7bc9aa82-a3ec-47a4-f068-6dfa9d7e603e"
      },
      "outputs": [
        {
          "name": "stdout",
          "output_type": "stream",
          "text": [
            "F1 Score is: 0.3625420292086959\n"
          ]
        }
      ],
      "source": [
        "from sklearn.metrics import f1_score\n",
        "YU_pred = label_propagation(X, idx_L, YL,sigma)\n",
        "print(\"F1 Score is:\",f1_score(YU, YU_pred, average='macro'))"
      ]
    },
    {
      "cell_type": "code",
      "execution_count": null,
      "metadata": {
        "id": "MUsb9gjaoqBb"
      },
      "outputs": [],
      "source": []
    }
  ],
  "metadata": {
    "colab": {
      "collapsed_sections": [
        "z2eH_S44lMUI"
      ],
      "provenance": []
    },
    "kernelspec": {
      "display_name": "Python 3",
      "name": "python3"
    },
    "language_info": {
      "codemirror_mode": {
        "name": "ipython",
        "version": 3
      },
      "file_extension": ".py",
      "mimetype": "text/x-python",
      "name": "python",
      "nbconvert_exporter": "python",
      "pygments_lexer": "ipython3",
      "version": "3.12.10"
    }
  },
  "nbformat": 4,
  "nbformat_minor": 0
}
